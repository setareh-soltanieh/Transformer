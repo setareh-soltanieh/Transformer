{
  "nbformat": 4,
  "nbformat_minor": 0,
  "metadata": {
    "colab": {
      "provenance": [],
      "gpuType": "T4"
    },
    "kernelspec": {
      "name": "python3",
      "display_name": "Python 3"
    },
    "language_info": {
      "name": "python"
    },
    "accelerator": "GPU"
  },
  "cells": [
    {
      "cell_type": "code",
      "source": [
        "!nvidia-smi"
      ],
      "metadata": {
        "colab": {
          "base_uri": "https://localhost:8080/"
        },
        "id": "zZR-VAFSPlTM",
        "outputId": "142961bc-1ba3-495c-bc7f-fe00cb220988"
      },
      "execution_count": 1,
      "outputs": [
        {
          "output_type": "stream",
          "name": "stdout",
          "text": [
            "/bin/bash: line 1: nvidia-smi: command not found\n"
          ]
        }
      ]
    },
    {
      "cell_type": "code",
      "execution_count": 10,
      "metadata": {
        "colab": {
          "base_uri": "https://localhost:8080/"
        },
        "id": "P7d5fWn6OvG1",
        "outputId": "51ed7931-3142-4aed-b526-e01328344cd9"
      },
      "outputs": [
        {
          "output_type": "stream",
          "name": "stdout",
          "text": [
            "Cloning into 'Transformer'...\n",
            "remote: Enumerating objects: 125, done.\u001b[K\n",
            "remote: Counting objects: 100% (125/125), done.\u001b[K\n",
            "remote: Compressing objects: 100% (88/88), done.\u001b[K\n",
            "remote: Total 125 (delta 54), reused 103 (delta 32), pack-reused 0 (from 0)\u001b[K\n",
            "Receiving objects: 100% (125/125), 1.33 MiB | 15.27 MiB/s, done.\n",
            "Resolving deltas: 100% (54/54), done.\n"
          ]
        }
      ],
      "source": [
        "!git clone https://github.com/setareh-soltanieh/Transformer.git"
      ]
    },
    {
      "cell_type": "code",
      "source": [
        "%cd Transformer\n",
        "!python train.py"
      ],
      "metadata": {
        "colab": {
          "base_uri": "https://localhost:8080/"
        },
        "id": "PUcUzJAWSi97",
        "outputId": "e0afd186-ab7c-4312-8f85-5d4b3cd478f9"
      },
      "execution_count": null,
      "outputs": [
        {
          "output_type": "stream",
          "name": "stdout",
          "text": [
            "/content/Transformer/Transformer\n",
            "2025-08-28 20:09:33.131777: E external/local_xla/xla/stream_executor/cuda/cuda_fft.cc:467] Unable to register cuFFT factory: Attempting to register factory for plugin cuFFT when one has already been registered\n",
            "WARNING: All log messages before absl::InitializeLog() is called are written to STDERR\n",
            "E0000 00:00:1756411773.152075    5716 cuda_dnn.cc:8579] Unable to register cuDNN factory: Attempting to register factory for plugin cuDNN when one has already been registered\n",
            "E0000 00:00:1756411773.158367    5716 cuda_blas.cc:1407] Unable to register cuBLAS factory: Attempting to register factory for plugin cuBLAS when one has already been registered\n",
            "W0000 00:00:1756411773.173842    5716 computation_placer.cc:177] computation placer already registered. Please check linkage and avoid linking the same target more than once.\n",
            "W0000 00:00:1756411773.173868    5716 computation_placer.cc:177] computation placer already registered. Please check linkage and avoid linking the same target more than once.\n",
            "W0000 00:00:1756411773.173872    5716 computation_placer.cc:177] computation placer already registered. Please check linkage and avoid linking the same target more than once.\n",
            "W0000 00:00:1756411773.173877    5716 computation_placer.cc:177] computation placer already registered. Please check linkage and avoid linking the same target more than once.\n",
            "2025-08-28 20:09:33.178659: I tensorflow/core/platform/cpu_feature_guard.cc:210] This TensorFlow binary is optimized to use available CPU instructions in performance-critical operations.\n",
            "To enable the following instructions: AVX2 AVX512F FMA, in other operations, rebuild TensorFlow with the appropriate compiler flags.\n",
            "device: cuda\n",
            "README.md: 28.1kB [00:00, 96.3MB/s]\n",
            "train-00000-of-00001.parquet: 100% 5.73M/5.73M [00:00<00:00, 93.6MB/s]\n",
            "Generating train split: 100% 32332/32332 [00:00<00:00, 269389.17 examples/s]\n",
            "max_len_src: 309\n",
            "max_len_tgt: 274\n",
            "Processing epoch  0: 100% 3638/3638 [25:08<00:00,  2.41it/s, loss=5.832]\n",
            "--------------------------------------------------------------------------------\n",
            "Source text: ['You were at the club drinking and drinking, and gambling, and then you went... to whom?']\n",
            "Target text: Al club hai bevuto, bevuto, hai giocato e poi sei andato... da chi?\n",
            "Predicted text: E che , ma , ma non , ma non .\n",
            "--------------------------------------------------------------------------------\n",
            "Source text: ['You were at the club drinking and drinking, and gambling, and then you went... to whom?', \"Only in the Northern Beetle, in a facetious feuilleton about the singer Drabanti who had lost his voice, were a few contemptuous remarks interpolated about Koznyshev's book, indicating that it had long ago been condemned by everybody and consigned to general ridicule.\"]\n",
            "Target text: Soltanto nel “Severnyj zuk”, in uno scherzoso articolo sul cantante Drabanti, che aveva perso la voce, erano dette, a questo proposito, alcune parole sprezzanti sul libro di Koznyšev, che mostravano che il libro, già da tempo, era condannato da tutti e abbandonato all’irrisione generale.\n",
            "Predicted text: Il suo momento , e , si alzò , e , e , e , e , e , e , e , e , e , e , e , e , e , e , e , e , e , e , e , e , e , e , e , e , e , e , e , e , e , e , e , e , e , e , e , e si era la sua , e si alzò .\n",
            "Processing epoch  1: 100% 3638/3638 [25:12<00:00,  2.41it/s, loss=5.256]\n",
            "--------------------------------------------------------------------------------\n",
            "Source text: ['But no one came upstairs and she heard voices below.']\n",
            "Target text: Ma nessuno saliva la scala e giù si sentivano delle voci.\n",
            "Predicted text: Ma non c ’ era un po ’ di nuovo , e si mise a casa .\n",
            "--------------------------------------------------------------------------------\n",
            "Source text: ['But no one came upstairs and she heard voices below.', \"'Without honour, without heart, without religion; a depraved woman!\"]\n",
            "Target text: «Senza onore e senza cuore e senza religione: una donna depravata.\n",
            "Predicted text: — È vero , ma è stato bene , ma è stato bene .\n",
            "Processing epoch  2: 100% 3638/3638 [25:12<00:00,  2.41it/s, loss=4.496]\n",
            "--------------------------------------------------------------------------------\n",
            "Source text: ['\"What does she want?\" asked Mrs. Eshton.']\n",
            "Target text: — E che cosa vuole? — domandò la signora Eshton.\n",
            "Predicted text: — Che cosa avete detto ? — domandò il signor Rochester .\n",
            "--------------------------------------------------------------------------------\n",
            "Source text: ['\"What does she want?\" asked Mrs. Eshton.', \"'What a darling my Varenka is, eh?'\"]\n",
            "Target text: — Ma che incanto è la mia Varen’ka!\n",
            "Predicted text: — Che cosa è una mia ? — disse .\n",
            "Processing epoch  3: 100% 3638/3638 [25:11<00:00,  2.41it/s, loss=5.303]\n",
            "--------------------------------------------------------------------------------\n",
            "Source text: ['Her whole face seemed to me full of charm.']\n",
            "Target text: Tutto il volto mi parve pieno di fascino.\n",
            "Predicted text: Era un viso di me , come mi .\n",
            "--------------------------------------------------------------------------------\n",
            "Source text: ['Her whole face seemed to me full of charm.', 'Levin sat down on the window-sill beside his brother.']\n",
            "Target text: Levin si accoccolò sulla finestra accanto al fratello.\n",
            "Predicted text: Levin si alzò in fretta , guardando il fratello .\n",
            "Processing epoch  4: 100% 3638/3638 [25:11<00:00,  2.41it/s, loss=4.343]\n",
            "--------------------------------------------------------------------------------\n",
            "Source text: ['\"Tell him I will go.\"']\n",
            "Target text: — Ditegli che vado.\n",
            "Predicted text: — , signore .\n",
            "--------------------------------------------------------------------------------\n",
            "Source text: ['\"Tell him I will go.\"', \"'And yet what a dear little puppy it was!' said Alice, as she leant against a buttercup to rest herself, and fanned herself with one of the leaves: 'I should have liked teaching it tricks very much, if--if I'd only been the right size to do it!\"]\n",
            "Target text: — E pure che bel cucciolo che era! — disse Alice, appoggiandosi a un ranuncolo e facendosi vento con una delle sue foglie. — Oh, avrei voluto insegnargli dei giuochi se... se fossi stata d'una statura adatta!\n",
            "Predicted text: — E che cosa mai ! — disse Alice , con un ' aria di , e , come se ne fosse stato un ' altra , si , e se ne fosse un ' altra parte , se fossi stato un ' altra parte , se fossi stato .\n",
            "Processing epoch  5: 100% 3638/3638 [25:11<00:00,  2.41it/s, loss=3.939]\n",
            "--------------------------------------------------------------------------------\n",
            "Source text: ['I passed a tall briar, shooting leafy and flowery branches across the path; I see the narrow stile with stone steps; and I see--Mr. Rochester sitting there, a book and a pencil in his hand; he is writing.']\n",
            "Target text: Passai dinanzi a una pianta di rose canine, che mandava i suoi tralci fioriti fino a metà della via, vidi la scaletta stretta con i gradini di pietra e vidi il signor Rochester seduto, con un taccuino e una matita in mano, che scriveva.\n",
            "Predicted text: La mia , un paio di remi , e mi misi a sedere accanto a me , con un libro , e mi misi a piangere .\n",
            "--------------------------------------------------------------------------------\n",
            "Source text: ['I passed a tall briar, shooting leafy and flowery branches across the path; I see the narrow stile with stone steps; and I see--Mr. Rochester sitting there, a book and a pencil in his hand; he is writing.', 'Secondly, my people were perfectly subjected—I was absolutely lord and lawgiver—they all owed their lives to me, and were ready to lay down their lives, if there had been occasion for it, for me.']\n",
            "Target text: In secondo luogo il mio popolo mi era pienamente subordinato; io ne era assoluto signore e legislatore. Ciascun suddito m’andava debitore della libertà, e ciascuno avrebbe di buon grado sagrificata per me, se fosse stato d’uopo, la sua propria vita.\n",
            "Predicted text: la mia vita , era un , e non mi ; e tutti i di essi erano stati , e se ne fossero stati , se ne fossero stati , e se ne fosse stato .\n",
            "Processing epoch  6: 100% 3638/3638 [25:11<00:00,  2.41it/s, loss=3.026]\n",
            "--------------------------------------------------------------------------------\n",
            "Source text: [\"'Now confess that you feel like the bridegroom in Gogol's play who jumped out of the window?' teased Chirikov.\"]\n",
            "Target text: — Ma, dite la verità, non avete la sensazione, come lo sposo di Gogol’ d’aver voglia di saltar via dalla finestra?\n",
            "Predicted text: — E tu che tu in fondo alla finestra ? — disse Levin , indicando la finestra a un tratto .\n",
            "--------------------------------------------------------------------------------\n",
            "Source text: [\"'Now confess that you feel like the bridegroom in Gogol's play who jumped out of the window?' teased Chirikov.\", 'The old goat whom I found expiring died in the mouth of the cave the next day after I made this discovery; and I found it much easier to dig a great hole there, and throw him in and cover him with earth, than to drag him out; so I interred him there, to prevent offence to my nose.']\n",
            "Target text: Ravvisai cosa molto più comoda lo scavar quivi una gran buca per seppellirvelo che il trarlo fuori di dov’era. Posto che l’ebbi entro la fossa, la copersi ben bene di terra per risparmiare fastidi al mio naso.\n",
            "Predicted text: Il vecchio capitano mi fece la bocca in mano della bocca , e dopo avere già io , e io non lo più di esso , e lo in un altro luogo di , lo con la terra , lo a , e non lo mai di .\n",
            "Processing epoch  7: 100% 3638/3638 [25:11<00:00,  2.41it/s, loss=3.429]\n",
            "--------------------------------------------------------------------------------\n",
            "Source text: ['She interrupted him.']\n",
            "Target text: Ella lo interruppe.\n",
            "Predicted text: Lo interruppe .\n",
            "--------------------------------------------------------------------------------\n",
            "Source text: ['She interrupted him.', \"Invite all the young puppies,' so the Prince called the Moscow young men, 'have a pianist and let them dance; but don't have the sort of thing we had to-night – these suitors and this pairing off.\"]\n",
            "Target text: Invitateli pure tutti questi moscardini — così il principe chiamava i giovani brillanti di Mosca — chiamate pure uno strimpellatore e fate pure ballare, ma non mi mettete insieme, come avete fatto questa sera, tutti questi fidanzatelli.\n",
            "Predicted text: Per tutto il giovane , il principe , che c ’ è un giovane di Mosca , il giovane Šcerbackij , non ci si deve fare nulla ; ma questa sera ci aveva fatto la notte e perciò ci siamo .\n",
            "Processing epoch  8: 100% 3638/3638 [25:10<00:00,  2.41it/s, loss=3.890]\n",
            "--------------------------------------------------------------------------------\n",
            "Source text: [\"Even now, during the few minutes she had spent in the nursery the English governess and Matrena Filimonovna had found time to ask some questions that could not be put off, and which she alone could answer. 'What should the children wear when they went out?\"]\n",
            "Target text: E anche ora, in quei pochi momenti che aveva passato nella camera dei bambini, la governante inglese e Matrëna Filimonovna si erano affrettate a farle alcune domande che non ammettevano indugio e alle quali solo lei poteva rispondere: cosa mettere indosso ai bambini per andare a spasso, dare o no il latte, mandare a chiamare oppure no un altro cuoco.\n",
            "Predicted text: E ora , dopo aver letto , aveva sentito che il ritratto le governante inglese e la governante inglese aveva chiesto di andare a una volta che non poteva trovare e che cosa poteva rispondere : « Che cosa si poteva andare ?\n",
            "--------------------------------------------------------------------------------\n",
            "Source text: [\"Even now, during the few minutes she had spent in the nursery the English governess and Matrena Filimonovna had found time to ask some questions that could not be put off, and which she alone could answer. 'What should the children wear when they went out?\", \"'What am I to write to him?' asked Levin. 'I hope you are not angry with him?'\"]\n",
            "Target text: — E cosa gli devo scrivere? — domandò Levin. — Spero che tu non sia arrabbiato contro di lui.\n",
            "Predicted text: — Cosa mi ? — disse Levin . — Non ti ho forse forse forse forse non sei colpevole ?\n",
            "Processing epoch  9: 100% 3638/3638 [25:10<00:00,  2.41it/s, loss=4.156]\n",
            "--------------------------------------------------------------------------------\n",
            "Source text: ['Therefore, unable either to believe in the importance of what he was doing or to look upon it with indifference as an empty form, he, while preparing for confession, felt awkward and ashamed at doing something incomprehensible and therefore – as an inner voice told him – necessarily false and wrong.']\n",
            "Target text: E perciò, non essendo in grado di credere al significato di quello che compiva, né di considerarlo con indifferenza come vuota formalità, durante tutto il tempo della preparazione alla comunione, provò un senso di disagio e di vergogna, compiendo cose che lui stesso non intendeva e, perciò, come gli diceva una voce interna, qualcosa da falso e di poco buono.\n",
            "Predicted text: E perciò , o almeno , in quell ’ atteggiamento di quello che egli non voleva trovare in lei , egli si con un ’ espressione così disperata , si sentiva , e si sentiva a disagio , e a ogni cosa sola gli disse , che , per un tratto , non solo per un male , e per lui , per una voce semplice , che non lo , e per lui , per un ’ altra cosa , egli non lo sapeva , ma per lui , per lui , per un certo male .\n",
            "--------------------------------------------------------------------------------\n",
            "Source text: ['Therefore, unable either to believe in the importance of what he was doing or to look upon it with indifference as an empty form, he, while preparing for confession, felt awkward and ashamed at doing something incomprehensible and therefore – as an inner voice told him – necessarily false and wrong.', \"'It is not like having to do with the Local Authorities,' said he. 'Where they would scribble over a whole ream of paper, I merely report to the Count; we talk it over, and three words settle the matter.'\"]\n",
            "Target text: Là dove si riempirebbe una risma di carta, io riferisco al conte, si discute e tutto è bell’e fatto in tre parole.\n",
            "Predicted text: — Non è possibile il diritto di fare con la mazurca — disse . — Dove si fossero messi a prendere il latte , io penso solo a un conte Vronskij . — E noi tre parole di tre .\n",
            "Processing epoch  10:  39% 1430/3638 [09:53<15:17,  2.41it/s, loss=3.047]"
          ]
        }
      ]
    }
  ]
}